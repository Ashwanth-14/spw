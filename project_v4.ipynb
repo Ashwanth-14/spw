{
  "cells": [
    {
      "cell_type": "code",
      "execution_count": null,
      "metadata": {
        "id": "ifCnrMcSkR8V"
      },
      "outputs": [],
      "source": [
        "import pandas as pd\n",
        "import numpy as np\n",
        "import matplotlib.pyplot as plt\n",
        "import seaborn as sn\n",
        "from sklearn.model_selection import train_test_split\n",
        "from sklearn.preprocessing import LabelEncoder\n",
        "import xgboost as xgb\n",
        "from sklearn.model_selection import train_test_split\n",
        "from sklearn.metrics import classification_report, accuracy_score, top_k_accuracy_score\n",
        "from sklearn.linear_model import LogisticRegression\n",
        "from tensorflow.keras.layers import Dense, Dropout\n",
        "from tensorflow.keras.utils import to_categorical\n",
        "from tensorflow.keras.models import Sequential\n",
        "\n",
        "import warnings\n",
        "\n",
        "import joblib\n",
        "\n",
        "# Filter warnings.\n",
        "warnings.filterwarnings('ignore')"
      ]
    },
    {
      "cell_type": "markdown",
      "metadata": {
        "id": "q76N91pZkooM"
      },
      "source": [
        "#Load DataSet\n"
      ]
    },
    {
      "cell_type": "code",
      "execution_count": null,
      "metadata": {
        "colab": {
          "base_uri": "https://localhost:8080/"
        },
        "id": "a_4SqkT5kghB",
        "outputId": "c12cf14b-a714-4319-c5e5-f242e2ab2398"
      },
      "outputs": [
        {
          "output_type": "stream",
          "name": "stdout",
          "text": [
            "--2025-07-25 09:20:18--  https://raw.github.com/Ashwanth-14/Ashwanth/main/Final_Augmented_dataset_Diseases_and_Symptoms.csv.zip\n",
            "Resolving raw.github.com (raw.github.com)... 185.199.108.133, 185.199.109.133, 185.199.110.133, ...\n",
            "Connecting to raw.github.com (raw.github.com)|185.199.108.133|:443... connected.\n",
            "HTTP request sent, awaiting response... 301 Moved Permanently\n",
            "Location: https://raw.githubusercontent.com/Ashwanth-14/Ashwanth/main/Final_Augmented_dataset_Diseases_and_Symptoms.csv.zip [following]\n",
            "--2025-07-25 09:20:18--  https://raw.githubusercontent.com/Ashwanth-14/Ashwanth/main/Final_Augmented_dataset_Diseases_and_Symptoms.csv.zip\n",
            "Resolving raw.githubusercontent.com (raw.githubusercontent.com)... 185.199.108.133, 185.199.109.133, 185.199.110.133, ...\n",
            "Connecting to raw.githubusercontent.com (raw.githubusercontent.com)|185.199.108.133|:443... connected.\n",
            "HTTP request sent, awaiting response... 200 OK\n",
            "Length: 2942107 (2.8M) [application/zip]\n",
            "Saving to: ‘Final_Augmented_dataset_Diseases_and_Symptoms.csv.zip’\n",
            "\n",
            "Final_Augmented_dat 100%[===================>]   2.81M  --.-KB/s    in 0.04s   \n",
            "\n",
            "2025-07-25 09:20:19 (66.0 MB/s) - ‘Final_Augmented_dataset_Diseases_and_Symptoms.csv.zip’ saved [2942107/2942107]\n",
            "\n"
          ]
        }
      ],
      "source": [
        "!wget 'https://raw.github.com/Ashwanth-14/Ashwanth/main/Final_Augmented_dataset_Diseases_and_Symptoms.csv.zip'"
      ]
    },
    {
      "cell_type": "code",
      "execution_count": null,
      "metadata": {
        "id": "e7GEUfI2k2OP"
      },
      "outputs": [],
      "source": [
        "df = pd.read_csv('Final_Augmented_dataset_Diseases_and_Symptoms.csv.zip')"
      ]
    },
    {
      "cell_type": "markdown",
      "metadata": {
        "id": "Q4N_yrSyk6XX"
      },
      "source": [
        "# Analaysis"
      ]
    },
    {
      "cell_type": "code",
      "execution_count": null,
      "metadata": {
        "colab": {
          "base_uri": "https://localhost:8080/"
        },
        "id": "sTT4gdnyk3EJ",
        "outputId": "ef618e19-0f97-4ab9-c470-54dc6cb3dc8b"
      },
      "outputs": [
        {
          "output_type": "execute_result",
          "data": {
            "text/plain": [
              "(246945, 378)"
            ]
          },
          "metadata": {},
          "execution_count": 4
        }
      ],
      "source": [
        "# Dataframe shape\n",
        "df.shape"
      ]
    },
    {
      "cell_type": "code",
      "execution_count": null,
      "metadata": {
        "colab": {
          "base_uri": "https://localhost:8080/",
          "height": 147
        },
        "id": "5vWQXi-klfvB",
        "outputId": "2658c226-f9d3-4490-c4b6-6a9abf410e37"
      },
      "outputs": [
        {
          "output_type": "execute_result",
          "data": {
            "text/plain": [
              "False    189647\n",
              "True      57298\n",
              "Name: count, dtype: int64"
            ],
            "text/html": [
              "<div>\n",
              "<style scoped>\n",
              "    .dataframe tbody tr th:only-of-type {\n",
              "        vertical-align: middle;\n",
              "    }\n",
              "\n",
              "    .dataframe tbody tr th {\n",
              "        vertical-align: top;\n",
              "    }\n",
              "\n",
              "    .dataframe thead th {\n",
              "        text-align: right;\n",
              "    }\n",
              "</style>\n",
              "<table border=\"1\" class=\"dataframe\">\n",
              "  <thead>\n",
              "    <tr style=\"text-align: right;\">\n",
              "      <th></th>\n",
              "      <th>count</th>\n",
              "    </tr>\n",
              "  </thead>\n",
              "  <tbody>\n",
              "    <tr>\n",
              "      <th>False</th>\n",
              "      <td>189647</td>\n",
              "    </tr>\n",
              "    <tr>\n",
              "      <th>True</th>\n",
              "      <td>57298</td>\n",
              "    </tr>\n",
              "  </tbody>\n",
              "</table>\n",
              "</div><br><label><b>dtype:</b> int64</label>"
            ]
          },
          "metadata": {},
          "execution_count": 5
        }
      ],
      "source": [
        "#Check for duplicates\n",
        "df.duplicated().value_counts()"
      ]
    },
    {
      "cell_type": "code",
      "source": [],
      "metadata": {
        "colab": {
          "base_uri": "https://localhost:8080/"
        },
        "id": "rIDu5MDA4mI7",
        "outputId": "a45a857f-1a9b-412e-ea41-aff3db95d1b7"
      },
      "execution_count": null,
      "outputs": [
        {
          "output_type": "stream",
          "name": "stdout",
          "text": [
            "The 600th most common disease is: breast cyst\n"
          ]
        }
      ]
    },
    {
      "cell_type": "code",
      "execution_count": null,
      "metadata": {
        "id": "g2WgoOo0liT_"
      },
      "outputs": [],
      "source": [
        "# Remove duplicated rows and columns\n",
        "df = df.drop_duplicates().reset_index(drop=True)"
      ]
    },
    {
      "cell_type": "code",
      "execution_count": null,
      "metadata": {
        "id": "fpR_AMVClq8n"
      },
      "outputs": [],
      "source": [
        "# Replace spaces with underscores in column names\n",
        "df.columns = df.columns.str.replace(' ', '_')"
      ]
    },
    {
      "cell_type": "code",
      "execution_count": null,
      "metadata": {
        "colab": {
          "base_uri": "https://localhost:8080/"
        },
        "id": "1SWqpoPjlsjn",
        "outputId": "830ca2dd-6abf-49cd-dc15-21b65681c8d7"
      },
      "outputs": [
        {
          "output_type": "execute_result",
          "data": {
            "text/plain": [
              "500"
            ]
          },
          "metadata": {},
          "execution_count": 9
        }
      ],
      "source": [
        "top_diseases = df['diseases'].value_counts().nlargest(500).index\n",
        "df = df[df['diseases'].isin(top_diseases)]\n",
        "\n",
        "# Re-check the number of unique diseases\n",
        "df['diseases'].nunique()"
      ]
    },
    {
      "cell_type": "code",
      "execution_count": null,
      "metadata": {
        "colab": {
          "base_uri": "https://localhost:8080/"
        },
        "id": "YsmPZmrJmHex",
        "outputId": "424502f9-68a6-400d-dfbc-af2e55c33188"
      },
      "outputs": [
        {
          "output_type": "stream",
          "name": "stdout",
          "text": [
            "         diseases  anxiety_and_nervousness  depression  shortness_of_breath  \\\n",
            "0  panic disorder                        1           0                    1   \n",
            "1  panic disorder                        0           0                    1   \n",
            "2  panic disorder                        1           1                    1   \n",
            "3  panic disorder                        1           0                    0   \n",
            "4  panic disorder                        1           1                    0   \n",
            "\n",
            "   depressive_or_psychotic_symptoms  sharp_chest_pain  dizziness  insomnia  \\\n",
            "0                                 1                 0          0         0   \n",
            "1                                 1                 0          1         1   \n",
            "2                                 1                 0          1         1   \n",
            "3                                 1                 0          1         1   \n",
            "4                                 0                 0          0         1   \n",
            "\n",
            "   abnormal_involuntary_movements  chest_tightness  ...  joint_swelling  \\\n",
            "0                               0                1  ...               0   \n",
            "1                               0                0  ...               0   \n",
            "2                               0                0  ...               0   \n",
            "3                               1                0  ...               0   \n",
            "4                               1                1  ...               0   \n",
            "\n",
            "   redness_in_or_around_nose  wrinkles_on_skin  foot_or_toe_weakness  \\\n",
            "0                          0                 0                     0   \n",
            "1                          0                 0                     0   \n",
            "2                          0                 0                     0   \n",
            "3                          0                 0                     0   \n",
            "4                          0                 0                     0   \n",
            "\n",
            "   hand_or_finger_cramps_or_spasms  back_stiffness_or_tightness  \\\n",
            "0                                0                            0   \n",
            "1                                0                            0   \n",
            "2                                0                            0   \n",
            "3                                0                            0   \n",
            "4                                0                            0   \n",
            "\n",
            "   wrist_lump_or_mass  low_urine_output  sore_in_nose  ankle_weakness  \n",
            "0                   0                 0             0               0  \n",
            "1                   0                 0             0               0  \n",
            "2                   0                 0             0               0  \n",
            "3                   0                 0             0               0  \n",
            "4                   0                 0             0               0  \n",
            "\n",
            "[5 rows x 317 columns]\n"
          ]
        }
      ],
      "source": [
        "# prompt: drop coloumns where all coloumns have value 0\n",
        "\n",
        "# Find columns where all values are 0\n",
        "zero_columns = df.columns[(df == 0).all()]\n",
        "\n",
        "# Drop these columns\n",
        "df = df.drop(columns=zero_columns)\n",
        "df.shape\n",
        "\n",
        "print(df.head())"
      ]
    },
    {
      "cell_type": "code",
      "execution_count": null,
      "metadata": {
        "id": "jRY5sLHUnGNe"
      },
      "outputs": [],
      "source": [
        "le = LabelEncoder()\n",
        "df['label'] = le.fit_transform(df['diseases'])"
      ]
    },
    {
      "cell_type": "code",
      "execution_count": null,
      "metadata": {
        "colab": {
          "base_uri": "https://localhost:8080/"
        },
        "id": "yb76o5GanNbI",
        "outputId": "68921bb8-1a64-424b-eaf8-b52b9c97fb5c"
      },
      "outputs": [
        {
          "output_type": "stream",
          "name": "stdout",
          "text": [
            "         diseases  label\n",
            "0  panic disorder    340\n",
            "1  panic disorder    340\n",
            "2  panic disorder    340\n",
            "3  panic disorder    340\n",
            "4  panic disorder    340\n",
            "5  panic disorder    340\n",
            "6  panic disorder    340\n",
            "7  panic disorder    340\n",
            "8  panic disorder    340\n",
            "9  panic disorder    340\n"
          ]
        }
      ],
      "source": [
        "# Check result\n",
        "print(df[['diseases', 'label']].head(10))"
      ]
    },
    {
      "cell_type": "code",
      "execution_count": null,
      "metadata": {
        "id": "XtivYtVEnvoc"
      },
      "outputs": [],
      "source": [
        "df = df.drop([\"diseases\"], axis=1).copy()\n",
        "X = df.drop([\"label\"], axis=1)\n",
        "y = df[\"label\"]"
      ]
    },
    {
      "cell_type": "code",
      "execution_count": null,
      "metadata": {
        "colab": {
          "base_uri": "https://localhost:8080/"
        },
        "id": "VAR-zsFQn07H",
        "outputId": "c18d4964-d81a-4603-f8fe-11fa9700bb30"
      },
      "outputs": [
        {
          "output_type": "execute_result",
          "data": {
            "text/plain": [
              "((187592, 316), (187592,))"
            ]
          },
          "metadata": {},
          "execution_count": 14
        }
      ],
      "source": [
        "X.shape, y.shape"
      ]
    },
    {
      "cell_type": "code",
      "execution_count": null,
      "metadata": {
        "id": "scktdr7en6uH"
      },
      "outputs": [],
      "source": [
        "num_classes = len(le.classes_)\n"
      ]
    },
    {
      "cell_type": "markdown",
      "metadata": {
        "id": "pWxAujtaoDoH"
      },
      "source": [
        "# MODELS\n"
      ]
    },
    {
      "cell_type": "markdown",
      "source": [
        "Neural NetWork\n"
      ],
      "metadata": {
        "id": "meR1eVwxEwtf"
      }
    },
    {
      "cell_type": "code",
      "source": [
        "y_categorical = to_categorical(y)\n",
        "num_classes = len(le.classes_)\n",
        "\n",
        "# Train-test split\n",
        "X_train, X_test, y_train, y_test = train_test_split(X, y_categorical, test_size=0.2, random_state=42)\n",
        "\n",
        "# Build the model\n",
        "model = Sequential([\n",
        "    Dense(512, activation='relu', input_shape=(316,)),   # wide first layer\n",
        "    Dropout(0.4),                                         # prevent overfitting\n",
        "    Dense(512, activation='relu'),\n",
        "    Dropout(0.3),\n",
        "    Dense(128, activation='relu'),\n",
        "    Dense(num_classes, activation='softmax')              # output: one per disease\n",
        "])\n",
        "\n",
        "# Compile\n",
        "model.compile(optimizer='adam', loss='categorical_crossentropy', metrics=['accuracy'])\n",
        "\n",
        "# Train\n",
        "history = model.fit(X_train, y_train, epochs=30, batch_size=32, validation_split=0.2)"
      ],
      "metadata": {
        "id": "o6njQu_ZE10C",
        "colab": {
          "base_uri": "https://localhost:8080/"
        },
        "outputId": "4f50d14e-8552-4383-8916-32cb716ae5e9"
      },
      "execution_count": null,
      "outputs": [
        {
          "output_type": "stream",
          "name": "stdout",
          "text": [
            "Epoch 1/30\n",
            "\u001b[1m3752/3752\u001b[0m \u001b[32m━━━━━━━━━━━━━━━━━━━━\u001b[0m\u001b[37m\u001b[0m \u001b[1m38s\u001b[0m 10ms/step - accuracy: 0.5366 - loss: 2.1558 - val_accuracy: 0.8086 - val_loss: 0.5378\n",
            "Epoch 2/30\n",
            "\u001b[1m3752/3752\u001b[0m \u001b[32m━━━━━━━━━━━━━━━━━━━━\u001b[0m\u001b[37m\u001b[0m \u001b[1m40s\u001b[0m 9ms/step - accuracy: 0.7892 - loss: 0.6388 - val_accuracy: 0.8171 - val_loss: 0.4970\n",
            "Epoch 3/30\n",
            "\u001b[1m3752/3752\u001b[0m \u001b[32m━━━━━━━━━━━━━━━━━━━━\u001b[0m\u001b[37m\u001b[0m \u001b[1m36s\u001b[0m 10ms/step - accuracy: 0.8057 - loss: 0.5728 - val_accuracy: 0.8206 - val_loss: 0.4788\n",
            "Epoch 4/30\n",
            "\u001b[1m3752/3752\u001b[0m \u001b[32m━━━━━━━━━━━━━━━━━━━━\u001b[0m\u001b[37m\u001b[0m \u001b[1m36s\u001b[0m 10ms/step - accuracy: 0.8126 - loss: 0.5387 - val_accuracy: 0.8221 - val_loss: 0.4627\n",
            "Epoch 5/30\n",
            "\u001b[1m3752/3752\u001b[0m \u001b[32m━━━━━━━━━━━━━━━━━━━━\u001b[0m\u001b[37m\u001b[0m \u001b[1m38s\u001b[0m 9ms/step - accuracy: 0.8205 - loss: 0.5108 - val_accuracy: 0.8240 - val_loss: 0.4575\n",
            "Epoch 6/30\n",
            "\u001b[1m3752/3752\u001b[0m \u001b[32m━━━━━━━━━━━━━━━━━━━━\u001b[0m\u001b[37m\u001b[0m \u001b[1m42s\u001b[0m 9ms/step - accuracy: 0.8198 - loss: 0.4998 - val_accuracy: 0.8254 - val_loss: 0.4449\n",
            "Epoch 7/30\n",
            "\u001b[1m3752/3752\u001b[0m \u001b[32m━━━━━━━━━━━━━━━━━━━━\u001b[0m\u001b[37m\u001b[0m \u001b[1m36s\u001b[0m 10ms/step - accuracy: 0.8235 - loss: 0.4810 - val_accuracy: 0.8259 - val_loss: 0.4407\n",
            "Epoch 8/30\n",
            "\u001b[1m3752/3752\u001b[0m \u001b[32m━━━━━━━━━━━━━━━━━━━━\u001b[0m\u001b[37m\u001b[0m \u001b[1m39s\u001b[0m 9ms/step - accuracy: 0.8248 - loss: 0.4758 - val_accuracy: 0.8214 - val_loss: 0.4379\n",
            "Epoch 9/30\n",
            "\u001b[1m3752/3752\u001b[0m \u001b[32m━━━━━━━━━━━━━━━━━━━━\u001b[0m\u001b[37m\u001b[0m \u001b[1m36s\u001b[0m 10ms/step - accuracy: 0.8263 - loss: 0.4682 - val_accuracy: 0.8265 - val_loss: 0.4278\n",
            "Epoch 10/30\n",
            "\u001b[1m3752/3752\u001b[0m \u001b[32m━━━━━━━━━━━━━━━━━━━━\u001b[0m\u001b[37m\u001b[0m \u001b[1m34s\u001b[0m 9ms/step - accuracy: 0.8282 - loss: 0.4590 - val_accuracy: 0.8233 - val_loss: 0.4357\n",
            "Epoch 11/30\n",
            "\u001b[1m3752/3752\u001b[0m \u001b[32m━━━━━━━━━━━━━━━━━━━━\u001b[0m\u001b[37m\u001b[0m \u001b[1m43s\u001b[0m 10ms/step - accuracy: 0.8289 - loss: 0.4527 - val_accuracy: 0.8235 - val_loss: 0.4315\n",
            "Epoch 12/30\n",
            "\u001b[1m3752/3752\u001b[0m \u001b[32m━━━━━━━━━━━━━━━━━━━━\u001b[0m\u001b[37m\u001b[0m \u001b[1m39s\u001b[0m 9ms/step - accuracy: 0.8296 - loss: 0.4547 - val_accuracy: 0.8247 - val_loss: 0.4280\n",
            "Epoch 13/30\n",
            "\u001b[1m3752/3752\u001b[0m \u001b[32m━━━━━━━━━━━━━━━━━━━━\u001b[0m\u001b[37m\u001b[0m \u001b[1m40s\u001b[0m 9ms/step - accuracy: 0.8286 - loss: 0.4528 - val_accuracy: 0.8258 - val_loss: 0.4249\n",
            "Epoch 14/30\n",
            "\u001b[1m3752/3752\u001b[0m \u001b[32m━━━━━━━━━━━━━━━━━━━━\u001b[0m\u001b[37m\u001b[0m \u001b[1m43s\u001b[0m 10ms/step - accuracy: 0.8315 - loss: 0.4458 - val_accuracy: 0.8248 - val_loss: 0.4223\n",
            "Epoch 15/30\n",
            "\u001b[1m3752/3752\u001b[0m \u001b[32m━━━━━━━━━━━━━━━━━━━━\u001b[0m\u001b[37m\u001b[0m \u001b[1m40s\u001b[0m 9ms/step - accuracy: 0.8300 - loss: 0.4485 - val_accuracy: 0.8277 - val_loss: 0.4219\n",
            "Epoch 16/30\n",
            "\u001b[1m3752/3752\u001b[0m \u001b[32m━━━━━━━━━━━━━━━━━━━━\u001b[0m\u001b[37m\u001b[0m \u001b[1m36s\u001b[0m 10ms/step - accuracy: 0.8306 - loss: 0.4443 - val_accuracy: 0.8273 - val_loss: 0.4208\n",
            "Epoch 17/30\n",
            "\u001b[1m3752/3752\u001b[0m \u001b[32m━━━━━━━━━━━━━━━━━━━━\u001b[0m\u001b[37m\u001b[0m \u001b[1m33s\u001b[0m 9ms/step - accuracy: 0.8347 - loss: 0.4352 - val_accuracy: 0.8278 - val_loss: 0.4168\n",
            "Epoch 18/30\n",
            "\u001b[1m3752/3752\u001b[0m \u001b[32m━━━━━━━━━━━━━━━━━━━━\u001b[0m\u001b[37m\u001b[0m \u001b[1m35s\u001b[0m 9ms/step - accuracy: 0.8307 - loss: 0.4389 - val_accuracy: 0.8252 - val_loss: 0.4176\n",
            "Epoch 19/30\n",
            "\u001b[1m3752/3752\u001b[0m \u001b[32m━━━━━━━━━━━━━━━━━━━━\u001b[0m\u001b[37m\u001b[0m \u001b[1m40s\u001b[0m 9ms/step - accuracy: 0.8321 - loss: 0.4378 - val_accuracy: 0.8267 - val_loss: 0.4162\n",
            "Epoch 20/30\n",
            "\u001b[1m3752/3752\u001b[0m \u001b[32m━━━━━━━━━━━━━━━━━━━━\u001b[0m\u001b[37m\u001b[0m \u001b[1m43s\u001b[0m 10ms/step - accuracy: 0.8321 - loss: 0.4360 - val_accuracy: 0.8251 - val_loss: 0.4148\n",
            "Epoch 21/30\n",
            "\u001b[1m3752/3752\u001b[0m \u001b[32m━━━━━━━━━━━━━━━━━━━━\u001b[0m\u001b[37m\u001b[0m \u001b[1m34s\u001b[0m 9ms/step - accuracy: 0.8333 - loss: 0.4357 - val_accuracy: 0.8259 - val_loss: 0.4143\n",
            "Epoch 22/30\n",
            "\u001b[1m3752/3752\u001b[0m \u001b[32m━━━━━━━━━━━━━━━━━━━━\u001b[0m\u001b[37m\u001b[0m \u001b[1m36s\u001b[0m 10ms/step - accuracy: 0.8315 - loss: 0.4395 - val_accuracy: 0.8237 - val_loss: 0.4207\n",
            "Epoch 23/30\n",
            "\u001b[1m3752/3752\u001b[0m \u001b[32m━━━━━━━━━━━━━━━━━━━━\u001b[0m\u001b[37m\u001b[0m \u001b[1m34s\u001b[0m 9ms/step - accuracy: 0.8319 - loss: 0.4398 - val_accuracy: 0.8237 - val_loss: 0.4154\n",
            "Epoch 24/30\n",
            "\u001b[1m3752/3752\u001b[0m \u001b[32m━━━━━━━━━━━━━━━━━━━━\u001b[0m\u001b[37m\u001b[0m \u001b[1m41s\u001b[0m 9ms/step - accuracy: 0.8314 - loss: 0.4348 - val_accuracy: 0.8256 - val_loss: 0.4117\n",
            "Epoch 25/30\n",
            "\u001b[1m3752/3752\u001b[0m \u001b[32m━━━━━━━━━━━━━━━━━━━━\u001b[0m\u001b[37m\u001b[0m \u001b[1m43s\u001b[0m 10ms/step - accuracy: 0.8327 - loss: 0.4357 - val_accuracy: 0.8270 - val_loss: 0.4107\n",
            "Epoch 26/30\n",
            "\u001b[1m3752/3752\u001b[0m \u001b[32m━━━━━━━━━━━━━━━━━━━━\u001b[0m\u001b[37m\u001b[0m \u001b[1m33s\u001b[0m 9ms/step - accuracy: 0.8318 - loss: 0.4352 - val_accuracy: 0.8252 - val_loss: 0.4150\n",
            "Epoch 27/30\n",
            "\u001b[1m3752/3752\u001b[0m \u001b[32m━━━━━━━━━━━━━━━━━━━━\u001b[0m\u001b[37m\u001b[0m \u001b[1m34s\u001b[0m 9ms/step - accuracy: 0.8329 - loss: 0.4360 - val_accuracy: 0.8231 - val_loss: 0.4143\n",
            "Epoch 28/30\n",
            "\u001b[1m3752/3752\u001b[0m \u001b[32m━━━━━━━━━━━━━━━━━━━━\u001b[0m\u001b[37m\u001b[0m \u001b[1m41s\u001b[0m 9ms/step - accuracy: 0.8336 - loss: 0.4342 - val_accuracy: 0.8277 - val_loss: 0.4131\n",
            "Epoch 29/30\n",
            "\u001b[1m3752/3752\u001b[0m \u001b[32m━━━━━━━━━━━━━━━━━━━━\u001b[0m\u001b[37m\u001b[0m \u001b[1m42s\u001b[0m 10ms/step - accuracy: 0.8323 - loss: 0.4356 - val_accuracy: 0.8289 - val_loss: 0.4083\n",
            "Epoch 30/30\n",
            "\u001b[1m3752/3752\u001b[0m \u001b[32m━━━━━━━━━━━━━━━━━━━━\u001b[0m\u001b[37m\u001b[0m \u001b[1m39s\u001b[0m 9ms/step - accuracy: 0.8324 - loss: 0.4339 - val_accuracy: 0.8272 - val_loss: 0.4138\n"
          ]
        }
      ]
    },
    {
      "cell_type": "code",
      "source": [
        "\n"
      ],
      "metadata": {
        "id": "AoEv3BQaVlXY"
      },
      "execution_count": null,
      "outputs": []
    },
    {
      "cell_type": "code",
      "source": [
        "def compute_top3_accuracy(model, X_test, y_test, label_encoder):\n",
        "    # Predict probabilities\n",
        "    y_probs = model.predict(X_test, verbose=0)\n",
        "\n",
        "    # Get top 3 predictions for each sample\n",
        "    top3_preds = np.argsort(y_probs, axis=1)[:, -3:]\n",
        "\n",
        "    # Convert true labels if needed\n",
        "    if not np.issubdtype(y_test.dtype, np.integer):\n",
        "        y_test = label_encoder.transform(y_test)\n",
        "\n",
        "    # Check if true label is in top 3\n",
        "    correct_top3 = np.any(top3_preds == y_test[:, None], axis=1)\n",
        "\n",
        "    # Compute accuracy\n",
        "    top3_accuracy = np.mean(correct_top3)\n",
        "\n",
        "    return round(top3_accuracy * 100, 2)"
      ],
      "metadata": {
        "id": "2o49drKfUuby"
      },
      "execution_count": null,
      "outputs": []
    },
    {
      "cell_type": "code",
      "source": [
        "# If y_test is one-hot encoded, convert it to label indices\n",
        "if len(y_test.shape) > 1 and y_test.shape[1] > 1:\n",
        "    y_test_labels = np.argmax(y_test, axis=1)\n",
        "else:\n",
        "    y_test_labels = y_test  # already in correct format\n",
        "\n",
        "top3_acc = compute_top3_accuracy(model, X_test,y_test_labels, le)\n",
        "print(f\"✅ Top-3 Accuracy: {top3_acc}%\")"
      ],
      "metadata": {
        "colab": {
          "base_uri": "https://localhost:8080/"
        },
        "id": "aqc3kARpUxn6",
        "outputId": "00e6f6fb-1ddb-44c4-a14a-bd12f3a69e4a"
      },
      "execution_count": null,
      "outputs": [
        {
          "output_type": "stream",
          "name": "stdout",
          "text": [
            "✅ Top-3 Accuracy: 94.69%\n"
          ]
        }
      ]
    },
    {
      "cell_type": "code",
      "source": [
        "model.save(\"my_model.h5\")\n",
        "from google.colab import files\n",
        "files.download(\"my_model.h5\")\n",
        "\n",
        "\n"
      ],
      "metadata": {
        "colab": {
          "base_uri": "https://localhost:8080/",
          "height": 54
        },
        "id": "ECIPtAFK_vVH",
        "outputId": "8bc22be7-2acb-40dd-8d60-dd1ceddd9719"
      },
      "execution_count": null,
      "outputs": [
        {
          "output_type": "stream",
          "name": "stderr",
          "text": [
            "WARNING:absl:You are saving your model as an HDF5 file via `model.save()` or `keras.saving.save_model(model)`. This file format is considered legacy. We recommend using instead the native Keras format, e.g. `model.save('my_model.keras')` or `keras.saving.save_model(model, 'my_model.keras')`. \n"
          ]
        },
        {
          "output_type": "display_data",
          "data": {
            "text/plain": [
              "<IPython.core.display.Javascript object>"
            ],
            "application/javascript": [
              "\n",
              "    async function download(id, filename, size) {\n",
              "      if (!google.colab.kernel.accessAllowed) {\n",
              "        return;\n",
              "      }\n",
              "      const div = document.createElement('div');\n",
              "      const label = document.createElement('label');\n",
              "      label.textContent = `Downloading \"${filename}\": `;\n",
              "      div.appendChild(label);\n",
              "      const progress = document.createElement('progress');\n",
              "      progress.max = size;\n",
              "      div.appendChild(progress);\n",
              "      document.body.appendChild(div);\n",
              "\n",
              "      const buffers = [];\n",
              "      let downloaded = 0;\n",
              "\n",
              "      const channel = await google.colab.kernel.comms.open(id);\n",
              "      // Send a message to notify the kernel that we're ready.\n",
              "      channel.send({})\n",
              "\n",
              "      for await (const message of channel.messages) {\n",
              "        // Send a message to notify the kernel that we're ready.\n",
              "        channel.send({})\n",
              "        if (message.buffers) {\n",
              "          for (const buffer of message.buffers) {\n",
              "            buffers.push(buffer);\n",
              "            downloaded += buffer.byteLength;\n",
              "            progress.value = downloaded;\n",
              "          }\n",
              "        }\n",
              "      }\n",
              "      const blob = new Blob(buffers, {type: 'application/binary'});\n",
              "      const a = document.createElement('a');\n",
              "      a.href = window.URL.createObjectURL(blob);\n",
              "      a.download = filename;\n",
              "      div.appendChild(a);\n",
              "      a.click();\n",
              "      div.remove();\n",
              "    }\n",
              "  "
            ]
          },
          "metadata": {}
        },
        {
          "output_type": "display_data",
          "data": {
            "text/plain": [
              "<IPython.core.display.Javascript object>"
            ],
            "application/javascript": [
              "download(\"download_f5595d71-b004-4256-b14c-0859304cb20a\", \"my_model.h5\", 6700424)"
            ]
          },
          "metadata": {}
        }
      ]
    },
    {
      "cell_type": "code",
      "source": [
        "import pickle\n",
        "with open(\"label_encoder.pkl\", \"wb\") as f:\n",
        "    pickle.dump(le, f)\n",
        "\n",
        "files.download(\"label_encoder.pkl\")"
      ],
      "metadata": {
        "colab": {
          "base_uri": "https://localhost:8080/",
          "height": 17
        },
        "id": "HKknx4Cg_1iq",
        "outputId": "573d860d-f08a-49ab-b175-45a167b0095e"
      },
      "execution_count": null,
      "outputs": [
        {
          "output_type": "display_data",
          "data": {
            "text/plain": [
              "<IPython.core.display.Javascript object>"
            ],
            "application/javascript": [
              "\n",
              "    async function download(id, filename, size) {\n",
              "      if (!google.colab.kernel.accessAllowed) {\n",
              "        return;\n",
              "      }\n",
              "      const div = document.createElement('div');\n",
              "      const label = document.createElement('label');\n",
              "      label.textContent = `Downloading \"${filename}\": `;\n",
              "      div.appendChild(label);\n",
              "      const progress = document.createElement('progress');\n",
              "      progress.max = size;\n",
              "      div.appendChild(progress);\n",
              "      document.body.appendChild(div);\n",
              "\n",
              "      const buffers = [];\n",
              "      let downloaded = 0;\n",
              "\n",
              "      const channel = await google.colab.kernel.comms.open(id);\n",
              "      // Send a message to notify the kernel that we're ready.\n",
              "      channel.send({})\n",
              "\n",
              "      for await (const message of channel.messages) {\n",
              "        // Send a message to notify the kernel that we're ready.\n",
              "        channel.send({})\n",
              "        if (message.buffers) {\n",
              "          for (const buffer of message.buffers) {\n",
              "            buffers.push(buffer);\n",
              "            downloaded += buffer.byteLength;\n",
              "            progress.value = downloaded;\n",
              "          }\n",
              "        }\n",
              "      }\n",
              "      const blob = new Blob(buffers, {type: 'application/binary'});\n",
              "      const a = document.createElement('a');\n",
              "      a.href = window.URL.createObjectURL(blob);\n",
              "      a.download = filename;\n",
              "      div.appendChild(a);\n",
              "      a.click();\n",
              "      div.remove();\n",
              "    }\n",
              "  "
            ]
          },
          "metadata": {}
        },
        {
          "output_type": "display_data",
          "data": {
            "text/plain": [
              "<IPython.core.display.Javascript object>"
            ],
            "application/javascript": [
              "download(\"download_43bc96d7-fb75-4bcd-bea8-fa1143db5c1e\", \"label_encoder.pkl\", 10753)"
            ]
          },
          "metadata": {}
        }
      ]
    },
    {
      "cell_type": "code",
      "source": [
        "import pickle\n",
        "from google.colab import files  # Use only in Google Colab\n",
        "\n",
        "# Create symptom_index from DataFrame columns\n",
        "symptom_index = {symptom: idx for idx, symptom in enumerate(X.columns)}\n",
        "\n",
        "# Save to a file\n",
        "with open(\"symptom_index.pkl\", \"wb\") as f:\n",
        "    pickle.dump(symptom_index, f)\n",
        "\n",
        "# Download the file (only for Colab)\n",
        "files.download(\"symptom_index.pkl\")\n"
      ],
      "metadata": {
        "colab": {
          "base_uri": "https://localhost:8080/",
          "height": 17
        },
        "id": "7lLJHrLu_2I4",
        "outputId": "88a3b879-e5d6-4b37-a1bc-62021ab7a3c9"
      },
      "execution_count": null,
      "outputs": [
        {
          "output_type": "display_data",
          "data": {
            "text/plain": [
              "<IPython.core.display.Javascript object>"
            ],
            "application/javascript": [
              "\n",
              "    async function download(id, filename, size) {\n",
              "      if (!google.colab.kernel.accessAllowed) {\n",
              "        return;\n",
              "      }\n",
              "      const div = document.createElement('div');\n",
              "      const label = document.createElement('label');\n",
              "      label.textContent = `Downloading \"${filename}\": `;\n",
              "      div.appendChild(label);\n",
              "      const progress = document.createElement('progress');\n",
              "      progress.max = size;\n",
              "      div.appendChild(progress);\n",
              "      document.body.appendChild(div);\n",
              "\n",
              "      const buffers = [];\n",
              "      let downloaded = 0;\n",
              "\n",
              "      const channel = await google.colab.kernel.comms.open(id);\n",
              "      // Send a message to notify the kernel that we're ready.\n",
              "      channel.send({})\n",
              "\n",
              "      for await (const message of channel.messages) {\n",
              "        // Send a message to notify the kernel that we're ready.\n",
              "        channel.send({})\n",
              "        if (message.buffers) {\n",
              "          for (const buffer of message.buffers) {\n",
              "            buffers.push(buffer);\n",
              "            downloaded += buffer.byteLength;\n",
              "            progress.value = downloaded;\n",
              "          }\n",
              "        }\n",
              "      }\n",
              "      const blob = new Blob(buffers, {type: 'application/binary'});\n",
              "      const a = document.createElement('a');\n",
              "      a.href = window.URL.createObjectURL(blob);\n",
              "      a.download = filename;\n",
              "      div.appendChild(a);\n",
              "      a.click();\n",
              "      div.remove();\n",
              "    }\n",
              "  "
            ]
          },
          "metadata": {}
        },
        {
          "output_type": "display_data",
          "data": {
            "text/plain": [
              "<IPython.core.display.Javascript object>"
            ],
            "application/javascript": [
              "download(\"download_79a06a18-a244-4b7d-8738-2c9ea9ee7411\", \"symptom_index.pkl\", 6946)"
            ]
          },
          "metadata": {}
        }
      ]
    },
    {
      "cell_type": "code",
      "source": [
        "print(le.classes_[:10])"
      ],
      "metadata": {
        "colab": {
          "base_uri": "https://localhost:8080/"
        },
        "id": "7M4MkvJhFO6X",
        "outputId": "02aab8e8-046b-4bcd-da6b-44a2fae6fb80"
      },
      "execution_count": null,
      "outputs": [
        {
          "output_type": "stream",
          "name": "stdout",
          "text": [
            "['abdominal aortic aneurysm' 'abdominal hernia' 'abscess of nose'\n",
            " 'abscess of the pharynx' 'achalasia' 'acne' 'actinic keratosis'\n",
            " 'acute bronchiolitis' 'acute bronchitis' 'acute bronchospasm']\n"
          ]
        }
      ]
    }
  ],
  "metadata": {
    "colab": {
      "provenance": []
    },
    "kernelspec": {
      "display_name": "Python 3",
      "name": "python3"
    },
    "language_info": {
      "name": "python"
    }
  },
  "nbformat": 4,
  "nbformat_minor": 0
}